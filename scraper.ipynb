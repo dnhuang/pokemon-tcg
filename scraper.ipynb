{
 "cells": [
  {
   "cell_type": "code",
   "execution_count": 31,
   "metadata": {},
   "outputs": [],
   "source": [
    "import requests\n",
    "from bs4 import BeautifulSoup\n",
    "import warnings\n",
    "import pandas as pd\n",
    "import regex as re\n",
    "warnings.filterwarnings('ignore', message='A NumPy version.*\"')"
   ]
  },
  {
   "cell_type": "markdown",
   "metadata": {},
   "source": [
    "# Set \\# and Name Extraction"
   ]
  },
  {
   "cell_type": "code",
   "execution_count": 2,
   "metadata": {},
   "outputs": [],
   "source": [
    "# base variables, set to site\n",
    "base_url = 'https://jp.pokellector.com/'\n",
    "url = 'https://jp.pokellector.com/Pokemon-151-Expansion/'\n",
    "html = requests.get(url)\n",
    "soup = BeautifulSoup(html.text, 'html.parser')"
   ]
  },
  {
   "cell_type": "code",
   "execution_count": 3,
   "metadata": {},
   "outputs": [],
   "source": [
    "# get all card numbers and names\n",
    "soup_elements = soup.find_all(class_='plaque')"
   ]
  },
  {
   "cell_type": "code",
   "execution_count": 4,
   "metadata": {},
   "outputs": [],
   "source": [
    "# append info into a list\n",
    "pokemon_list = []\n",
    "for soup_element in soup_elements:\n",
    "    curr_list = soup_element.text.split('-')\n",
    "    pokemon_list.append([curr_list[0][:-1], curr_list[1][1:]])"
   ]
  },
  {
   "cell_type": "markdown",
   "metadata": {},
   "source": [
    "# Rarity Extraction"
   ]
  },
  {
   "cell_type": "code",
   "execution_count": 5,
   "metadata": {},
   "outputs": [],
   "source": [
    "rarity_url = 'https://www.tcgcollector.com/cards/jp/pokemon-card-151?releaseDateOrder=newToOld&cardsPerPage=30&displayAs=images'\n",
    "rarity_html = requests.get(rarity_url)\n",
    "rarity_soup = BeautifulSoup(rarity_html.text, 'html.parser')\n",
    "rarity_soup_elements = rarity_soup.find_all('img', class_='card-rarity-symbol')"
   ]
  },
  {
   "cell_type": "code",
   "execution_count": 6,
   "metadata": {},
   "outputs": [],
   "source": [
    "rarity_list = []\n",
    "for rarity_soup_element in rarity_soup_elements:\n",
    "    curr_rarity = rarity_soup_element['alt']\n",
    "    filtered_rarity = curr_rarity.split()[-1].strip('()')\n",
    "    rarity_list.append(filtered_rarity)"
   ]
  },
  {
   "cell_type": "code",
   "execution_count": 7,
   "metadata": {},
   "outputs": [],
   "source": [
    "# append rarity_list elements to pokemon list\n",
    "for i in range(len(pokemon_list)):\n",
    "    pokemon_list[i].append(rarity_list[i])"
   ]
  },
  {
   "cell_type": "markdown",
   "metadata": {},
   "source": [
    "# Price Extraction"
   ]
  },
  {
   "cell_type": "code",
   "execution_count": 8,
   "metadata": {},
   "outputs": [],
   "source": [
    "price_url = 'https://www.pricecharting.com/search-products?q=%5BMaster+Ball%5D+151&type=prices'\n",
    "price_html = requests.get(price_url)\n",
    "price_soup = BeautifulSoup(price_html.text, 'html.parser')"
   ]
  },
  {
   "cell_type": "code",
   "execution_count": 64,
   "metadata": {},
   "outputs": [],
   "source": [
    "# create emtpy list\n",
    "num_and_price_list = []\n",
    "\n",
    "# get all masterball cards set # and price\n",
    "# all lists contain 153 elements (total number of masterballs)\n",
    "num_soup_elements = price_soup.find_all('td', class_='title')\n",
    "price_soup_elements = price_soup.find_all('td', class_='price numeric used_price')\n",
    "\n",
    "# populate empty list\n",
    "for num_element, price_element in zip(num_soup_elements, price_soup_elements):\n",
    "    filtered_num_element = num_element.text.strip()\n",
    "    # print(filtered_num_element)\n",
    "    pattern = r'(#\\d+)\\n'\n",
    "    set_num = re.findall(pattern, filtered_num_element)\n",
    "    filtered_price_element = price_element.text.strip()\n",
    "    num_and_price_list.append([set_num[0], filtered_price_element[1:]])"
   ]
  },
  {
   "cell_type": "code",
   "execution_count": 65,
   "metadata": {},
   "outputs": [
    {
     "data": {
      "text/html": [
       "<div>\n",
       "<style scoped>\n",
       "    .dataframe tbody tr th:only-of-type {\n",
       "        vertical-align: middle;\n",
       "    }\n",
       "\n",
       "    .dataframe tbody tr th {\n",
       "        vertical-align: top;\n",
       "    }\n",
       "\n",
       "    .dataframe thead th {\n",
       "        text-align: right;\n",
       "    }\n",
       "</style>\n",
       "<table border=\"1\" class=\"dataframe\">\n",
       "  <thead>\n",
       "    <tr style=\"text-align: right;\">\n",
       "      <th></th>\n",
       "      <th>Set #</th>\n",
       "      <th>Price</th>\n",
       "    </tr>\n",
       "  </thead>\n",
       "  <tbody>\n",
       "    <tr>\n",
       "      <th>0</th>\n",
       "      <td>#63</td>\n",
       "      <td>10.75</td>\n",
       "    </tr>\n",
       "    <tr>\n",
       "      <th>1</th>\n",
       "      <td>#142</td>\n",
       "      <td>18.62</td>\n",
       "    </tr>\n",
       "    <tr>\n",
       "      <th>2</th>\n",
       "      <td>#59</td>\n",
       "      <td>22.75</td>\n",
       "    </tr>\n",
       "    <tr>\n",
       "      <th>3</th>\n",
       "      <td>#144</td>\n",
       "      <td>15.50</td>\n",
       "    </tr>\n",
       "    <tr>\n",
       "      <th>4</th>\n",
       "      <td>#15</td>\n",
       "      <td>11.99</td>\n",
       "    </tr>\n",
       "  </tbody>\n",
       "</table>\n",
       "</div>"
      ],
      "text/plain": [
       "  Set #  Price\n",
       "0   #63  10.75\n",
       "1  #142  18.62\n",
       "2   #59  22.75\n",
       "3  #144  15.50\n",
       "4   #15  11.99"
      ]
     },
     "execution_count": 65,
     "metadata": {},
     "output_type": "execute_result"
    }
   ],
   "source": [
    "# put data into data frame and output\n",
    "prices_df = pd.DataFrame(num_and_price_list, columns=['Set #', 'Price'])\n",
    "prices_df.head()"
   ]
  },
  {
   "cell_type": "markdown",
   "metadata": {},
   "source": [
    "# Output into .xlsx file"
   ]
  },
  {
   "cell_type": "code",
   "execution_count": 66,
   "metadata": {},
   "outputs": [
    {
     "data": {
      "text/html": [
       "<div>\n",
       "<style scoped>\n",
       "    .dataframe tbody tr th:only-of-type {\n",
       "        vertical-align: middle;\n",
       "    }\n",
       "\n",
       "    .dataframe tbody tr th {\n",
       "        vertical-align: top;\n",
       "    }\n",
       "\n",
       "    .dataframe thead th {\n",
       "        text-align: right;\n",
       "    }\n",
       "</style>\n",
       "<table border=\"1\" class=\"dataframe\">\n",
       "  <thead>\n",
       "    <tr style=\"text-align: right;\">\n",
       "      <th></th>\n",
       "      <th>Set #</th>\n",
       "      <th>Name</th>\n",
       "      <th>Rarity</th>\n",
       "    </tr>\n",
       "  </thead>\n",
       "  <tbody>\n",
       "    <tr>\n",
       "      <th>0</th>\n",
       "      <td>#1</td>\n",
       "      <td>Bulbasaur</td>\n",
       "      <td>C</td>\n",
       "    </tr>\n",
       "    <tr>\n",
       "      <th>1</th>\n",
       "      <td>#2</td>\n",
       "      <td>Ivysaur</td>\n",
       "      <td>U</td>\n",
       "    </tr>\n",
       "    <tr>\n",
       "      <th>2</th>\n",
       "      <td>#3</td>\n",
       "      <td>Venusaur ex</td>\n",
       "      <td>RR</td>\n",
       "    </tr>\n",
       "    <tr>\n",
       "      <th>3</th>\n",
       "      <td>#4</td>\n",
       "      <td>Charmander</td>\n",
       "      <td>C</td>\n",
       "    </tr>\n",
       "    <tr>\n",
       "      <th>4</th>\n",
       "      <td>#5</td>\n",
       "      <td>Charmeleon</td>\n",
       "      <td>U</td>\n",
       "    </tr>\n",
       "  </tbody>\n",
       "</table>\n",
       "</div>"
      ],
      "text/plain": [
       "  Set #         Name Rarity\n",
       "0    #1    Bulbasaur      C\n",
       "1    #2      Ivysaur      U\n",
       "2    #3  Venusaur ex     RR\n",
       "3    #4   Charmander      C\n",
       "4    #5   Charmeleon      U"
      ]
     },
     "execution_count": 66,
     "metadata": {},
     "output_type": "execute_result"
    }
   ],
   "source": [
    "# put data into data frame and output\n",
    "df = pd.DataFrame(pokemon_list, columns=['Set #', 'Name', 'Rarity'])\n",
    "df.head()"
   ]
  },
  {
   "cell_type": "code",
   "execution_count": 67,
   "metadata": {},
   "outputs": [
    {
     "data": {
      "text/html": [
       "<div>\n",
       "<style scoped>\n",
       "    .dataframe tbody tr th:only-of-type {\n",
       "        vertical-align: middle;\n",
       "    }\n",
       "\n",
       "    .dataframe tbody tr th {\n",
       "        vertical-align: top;\n",
       "    }\n",
       "\n",
       "    .dataframe thead th {\n",
       "        text-align: right;\n",
       "    }\n",
       "</style>\n",
       "<table border=\"1\" class=\"dataframe\">\n",
       "  <thead>\n",
       "    <tr style=\"text-align: right;\">\n",
       "      <th></th>\n",
       "      <th>Set #</th>\n",
       "      <th>Name</th>\n",
       "      <th>Rarity</th>\n",
       "      <th>Price</th>\n",
       "    </tr>\n",
       "  </thead>\n",
       "  <tbody>\n",
       "    <tr>\n",
       "      <th>0</th>\n",
       "      <td>#1</td>\n",
       "      <td>Bulbasaur</td>\n",
       "      <td>C</td>\n",
       "      <td>21.75</td>\n",
       "    </tr>\n",
       "    <tr>\n",
       "      <th>1</th>\n",
       "      <td>#2</td>\n",
       "      <td>Ivysaur</td>\n",
       "      <td>U</td>\n",
       "      <td>16.09</td>\n",
       "    </tr>\n",
       "    <tr>\n",
       "      <th>2</th>\n",
       "      <td>#3</td>\n",
       "      <td>Venusaur ex</td>\n",
       "      <td>RR</td>\n",
       "      <td>NaN</td>\n",
       "    </tr>\n",
       "    <tr>\n",
       "      <th>3</th>\n",
       "      <td>#4</td>\n",
       "      <td>Charmander</td>\n",
       "      <td>C</td>\n",
       "      <td>29.01</td>\n",
       "    </tr>\n",
       "    <tr>\n",
       "      <th>4</th>\n",
       "      <td>#5</td>\n",
       "      <td>Charmeleon</td>\n",
       "      <td>U</td>\n",
       "      <td>17.75</td>\n",
       "    </tr>\n",
       "  </tbody>\n",
       "</table>\n",
       "</div>"
      ],
      "text/plain": [
       "  Set #         Name Rarity  Price\n",
       "0    #1    Bulbasaur      C  21.75\n",
       "1    #2      Ivysaur      U  16.09\n",
       "2    #3  Venusaur ex     RR    NaN\n",
       "3    #4   Charmander      C  29.01\n",
       "4    #5   Charmeleon      U  17.75"
      ]
     },
     "execution_count": 67,
     "metadata": {},
     "output_type": "execute_result"
    }
   ],
   "source": [
    "# Left join prices_df onto df using Set # column to get corresponding\n",
    "# master ball prices\n",
    "combined_df = df.merge(prices_df, how='left', left_on='Set #', right_on='Set #')\n",
    "combined_df.fillna(0) # fill nulls with 0s (meaning no master ball for that card)\n",
    "combined_df.head()"
   ]
  },
  {
   "cell_type": "code",
   "execution_count": 24,
   "metadata": {},
   "outputs": [],
   "source": [
    "# output into csv file\n",
    "combined_df.to_excel('sv2a.xlsx',index=False)"
   ]
  },
  {
   "cell_type": "code",
   "execution_count": 88,
   "metadata": {},
   "outputs": [
    {
     "data": {
      "text/plain": [
       "2427.27"
      ]
     },
     "execution_count": 88,
     "metadata": {},
     "output_type": "execute_result"
    }
   ],
   "source": [
    "sum(combined_df[~combined_df['Price'].isna()]['Price'].astype('float'))"
   ]
  },
  {
   "cell_type": "code",
   "execution_count": 92,
   "metadata": {},
   "outputs": [],
   "source": [
    "only_mb_df = combined_df[~combined_df['Price'].isna()]"
   ]
  },
  {
   "cell_type": "code",
   "execution_count": 93,
   "metadata": {},
   "outputs": [],
   "source": [
    "only_mb_df.to_csv('output.csv', index=False)"
   ]
  },
  {
   "cell_type": "code",
   "execution_count": null,
   "metadata": {},
   "outputs": [],
   "source": []
  }
 ],
 "metadata": {
  "kernelspec": {
   "display_name": "base",
   "language": "python",
   "name": "python3"
  },
  "language_info": {
   "codemirror_mode": {
    "name": "ipython",
    "version": 3
   },
   "file_extension": ".py",
   "mimetype": "text/x-python",
   "name": "python",
   "nbconvert_exporter": "python",
   "pygments_lexer": "ipython3",
   "version": "3.9.13"
  }
 },
 "nbformat": 4,
 "nbformat_minor": 2
}
